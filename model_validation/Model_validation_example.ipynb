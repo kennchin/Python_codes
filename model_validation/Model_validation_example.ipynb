{
 "cells": [
  {
   "cell_type": "markdown",
   "metadata": {},
   "source": [
    "Example of Model validation using wheat seed dataset with knn classifier.\n",
    "\n",
    "    Method 1: Use whole dataset to train/test model\n",
    "    Method 2: Use split dataset- one to train model (train set) and another to test model (test set)"
   ]
  },
  {
   "cell_type": "code",
   "execution_count": 19,
   "metadata": {
    "collapsed": true
   },
   "outputs": [],
   "source": [
    "import pandas as pd  #library for pandas library\n",
    "from sklearn.neighbors import KNeighborsClassifier #library to use KNN classifier\n",
    "from sklearn import metrics  #library to check prediction accuracy\n",
    "from sklearn.cross_validation import train_test_split  #library to split dataset"
   ]
  },
  {
   "cell_type": "code",
   "execution_count": 13,
   "metadata": {
    "collapsed": true
   },
   "outputs": [],
   "source": [
    "col_names = ['area','perimeter','compactness','length_kernel','width_kernel','assym','length_groove','type']\n",
    "url = \"https://archive.ics.uci.edu/ml/machine-learning-databases/00236/seeds_dataset.txt\"\n",
    "data = pd.read_csv(url,names=col_names,delim_whitespace=True)"
   ]
  },
  {
   "cell_type": "code",
   "execution_count": 14,
   "metadata": {
    "collapsed": true
   },
   "outputs": [],
   "source": [
    "features_col = ['area','perimeter','compactness','length_kernel','width_kernel','assym','length_groove']\n",
    "X = data[features_col]\n",
    "y = data['type']"
   ]
  },
  {
   "cell_type": "code",
   "execution_count": 15,
   "metadata": {
    "collapsed": true
   },
   "outputs": [],
   "source": [
    "knn = KNeighborsClassifier(n_neighbors=50)"
   ]
  },
  {
   "cell_type": "code",
   "execution_count": 16,
   "metadata": {
    "collapsed": false
   },
   "outputs": [
    {
     "data": {
      "text/plain": [
       "KNeighborsClassifier(algorithm='auto', leaf_size=30, metric='minkowski',\n",
       "           metric_params=None, n_jobs=1, n_neighbors=50, p=2,\n",
       "           weights='uniform')"
      ]
     },
     "execution_count": 16,
     "metadata": {},
     "output_type": "execute_result"
    }
   ],
   "source": [
    "knn.fit(X,y)"
   ]
  },
  {
   "cell_type": "code",
   "execution_count": 17,
   "metadata": {
    "collapsed": false
   },
   "outputs": [],
   "source": [
    "y_predicted = knn.predict(X)"
   ]
  },
  {
   "cell_type": "code",
   "execution_count": 18,
   "metadata": {
    "collapsed": false
   },
   "outputs": [
    {
     "name": "stdout",
     "output_type": "stream",
     "text": [
      "0.890476190476\n",
      "0.890476190476\n"
     ]
    }
   ],
   "source": [
    "#use metric library to check prediction accuracy\n",
    "print (metrics.accuracy_score(y,y_predicted))\n",
    "print (metrics.accuracy_score(y_predicted,y))"
   ]
  },
  {
   "cell_type": "markdown",
   "metadata": {},
   "source": [
    "------------------------- Method 2 -------------------------------------"
   ]
  },
  {
   "cell_type": "code",
   "execution_count": 32,
   "metadata": {
    "collapsed": true
   },
   "outputs": [],
   "source": [
    "#random_state to obtain same numbers when splitting dataset\n",
    "\n",
    "X_train, X_test, y_train, y_test = train_test_split(X,y,random_state=99)"
   ]
  },
  {
   "cell_type": "code",
   "execution_count": 31,
   "metadata": {
    "collapsed": false
   },
   "outputs": [
    {
     "name": "stdout",
     "output_type": "stream",
     "text": [
      "    area  perimeter  compactness  length_kernel  width_kernel  assym  \\\n",
      "0  15.26      14.84       0.8710          5.763         3.312  2.221   \n",
      "1  14.88      14.57       0.8811          5.554         3.333  1.018   \n",
      "\n",
      "   length_groove  \n",
      "0          5.220  \n",
      "1          4.956  \n",
      "(210, 7)\n",
      "     area  perimeter  compactness  length_kernel  width_kernel  assym  \\\n",
      "18  14.70      14.21       0.9153          5.205         3.466  1.767   \n",
      "64  12.78      13.57       0.8716          5.262         3.026  1.176   \n",
      "\n",
      "    length_groove  \n",
      "18          4.649  \n",
      "64          4.782  \n",
      "(157, 7)\n",
      "      area  perimeter  compactness  length_kernel  width_kernel  assym  \\\n",
      "36   16.20      15.27       0.8734          5.826         3.464  2.823   \n",
      "142  13.34      13.95       0.8620          5.389         3.074  5.995   \n",
      "\n",
      "     length_groove  \n",
      "36           5.527  \n",
      "142          5.307  \n",
      "(53, 7)\n",
      "0    1\n",
      "1    1\n",
      "Name: type, dtype: int64\n",
      "(210,)\n",
      "18    1\n",
      "64    1\n",
      "Name: type, dtype: int64\n",
      "(157,)\n",
      "36     1\n",
      "142    3\n",
      "Name: type, dtype: int64\n",
      "(53,)\n"
     ]
    }
   ],
   "source": [
    "#Confirm that the splitting of the dataset occurs\n",
    "print (X.head(2))\n",
    "print (X.shape)\n",
    "print (X_train.head(2))\n",
    "print (X_train.shape)\n",
    "print (X_test.head(2))\n",
    "print (X_test.shape)\n",
    "print (y.head(2))\n",
    "print (y.shape)\n",
    "print (y_train.head(2))\n",
    "print (y_train.shape)\n",
    "print (y_test.head(2))\n",
    "print (y_test.shape)"
   ]
  },
  {
   "cell_type": "code",
   "execution_count": 33,
   "metadata": {
    "collapsed": true
   },
   "outputs": [],
   "source": [
    "knn_two = KNeighborsClassifier(n_neighbors=50)"
   ]
  },
  {
   "cell_type": "code",
   "execution_count": 34,
   "metadata": {
    "collapsed": false
   },
   "outputs": [
    {
     "data": {
      "text/plain": [
       "KNeighborsClassifier(algorithm='auto', leaf_size=30, metric='minkowski',\n",
       "           metric_params=None, n_jobs=1, n_neighbors=50, p=2,\n",
       "           weights='uniform')"
      ]
     },
     "execution_count": 34,
     "metadata": {},
     "output_type": "execute_result"
    }
   ],
   "source": [
    "knn_two.fit(X_train,y_train)"
   ]
  },
  {
   "cell_type": "code",
   "execution_count": 35,
   "metadata": {
    "collapsed": true
   },
   "outputs": [],
   "source": [
    "y_predicted_two = knn_two.predict(X_test)"
   ]
  },
  {
   "cell_type": "code",
   "execution_count": 37,
   "metadata": {
    "collapsed": false
   },
   "outputs": [
    {
     "data": {
      "text/plain": [
       "array([2, 1, 1, 3, 2, 1, 2, 2, 3, 2, 1, 2, 2, 1, 2, 2, 3, 2, 1, 1, 1, 1, 3,\n",
       "       1, 1, 1, 3, 2, 1, 1, 1, 1, 2, 3, 1, 1, 2, 2, 3, 2, 3, 2, 3, 3, 1, 2,\n",
       "       2, 3, 2, 1, 2, 3, 2])"
      ]
     },
     "execution_count": 37,
     "metadata": {},
     "output_type": "execute_result"
    }
   ],
   "source": [
    "y_predicted_two\n"
   ]
  },
  {
   "cell_type": "code",
   "execution_count": 39,
   "metadata": {
    "collapsed": false
   },
   "outputs": [
    {
     "name": "stdout",
     "output_type": "stream",
     "text": [
      "0.867924528302\n",
      "0.867924528302\n"
     ]
    }
   ],
   "source": [
    "print (metrics.accuracy_score(y_test,y_predicted_two))\n",
    "print (metrics.accuracy_score(y_predicted_two,y_test))"
   ]
  },
  {
   "cell_type": "markdown",
   "metadata": {},
   "source": [
    "Note:\n",
    "    - Using whole dataset to train/test model, we get an accuracy of 89%. When we split dataset, we get an accuracy of 86%. Not bad\n",
    "    - The order for the parameter in the accuracy_score function is not relevant since we see that we get the same answer."
   ]
  },
  {
   "cell_type": "code",
   "execution_count": null,
   "metadata": {
    "collapsed": true
   },
   "outputs": [],
   "source": []
  }
 ],
 "metadata": {
  "kernelspec": {
   "display_name": "Python 3",
   "language": "python",
   "name": "python3"
  },
  "language_info": {
   "codemirror_mode": {
    "name": "ipython",
    "version": 3
   },
   "file_extension": ".py",
   "mimetype": "text/x-python",
   "name": "python",
   "nbconvert_exporter": "python",
   "pygments_lexer": "ipython3",
   "version": "3.5.1"
  }
 },
 "nbformat": 4,
 "nbformat_minor": 0
}
